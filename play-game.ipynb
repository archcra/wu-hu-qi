{
 "cells": [
  {
   "cell_type": "code",
   "execution_count": 1,
   "metadata": {},
   "outputs": [
    {
     "name": "stderr",
     "output_type": "stream",
     "text": [
      "Using TensorFlow backend.\n"
     ]
    },
    {
     "name": "stdout",
     "output_type": "stream",
     "text": [
      "Ready OK.\n"
     ]
    }
   ],
   "source": [
    "# -*- coding: utf-8 -*-\n",
    "# %matplotlib inline\n",
    "%load_ext autoreload\n",
    "%autoreload 2\n",
    "\n",
    "import numpy as np\n",
    "np.set_printoptions(suppress=True)\n",
    "\n",
    "from shutil import copyfile\n",
    "import random\n",
    "from importlib import reload\n",
    "\n",
    "\n",
    "from keras.utils import plot_model\n",
    "\n",
    "from game import Game, GameState\n",
    "from agent import Agent\n",
    "from memory import Memory\n",
    "from model import Residual_CNN\n",
    "from funcs import playMatches, playMatchesBetweenVersions\n",
    "\n",
    "import loggers as lg\n",
    "\n",
    "from settings import run_folder, run_archive_folder\n",
    "import initialise\n",
    "import pickle\n",
    "print (\"Ready OK.\")"
   ]
  },
  {
   "cell_type": "code",
   "execution_count": 5,
   "metadata": {},
   "outputs": [
    {
     "name": "stdout",
     "output_type": "stream",
     "text": [
      "LOADING MODEL VERSION 9...\n",
      "\n",
      "\n"
     ]
    }
   ],
   "source": [
    "env = Game()\n",
    "\n",
    "# If loading an existing neural network, copy the config file to root\n",
    "if initialise.INITIAL_RUN_NUMBER != None:\n",
    "    copyfile(run_archive_folder + env.name + '/run' + str(initialise.INITIAL_RUN_NUMBER).zfill(4) + '/config.py', './config.py')\n",
    "\n",
    "import config\n",
    "\n",
    "######## LOAD MEMORIES IF NECESSARY ########\n",
    "\n",
    "if initialise.INITIAL_MEMORY_VERSION == None:\n",
    "    memory = Memory(config.MEMORY_SIZE)\n",
    "else:\n",
    "    print('LOADING MEMORY VERSION ' + str(initialise.INITIAL_MEMORY_VERSION) + '...')\n",
    "    memory = pickle.load( open( run_archive_folder + env.name + '/run' + str(initialise.INITIAL_RUN_NUMBER).zfill(4) + \"/memory/memory\" + str(initialise.INITIAL_MEMORY_VERSION).zfill(4) + \".p\",   \"rb\" ) )\n",
    "\n",
    "######## LOAD MODEL IF NECESSARY ########\n",
    "\n",
    "# create an untrained neural network objects from the config file\n",
    "current_NN = Residual_CNN(config.REG_CONST, config.LEARNING_RATE, (2,) + env.grid_shape,   env.action_size, config.HIDDEN_CNN_LAYERS)\n",
    "best_NN = Residual_CNN(config.REG_CONST, config.LEARNING_RATE, (2,) +  env.grid_shape,   env.action_size, config.HIDDEN_CNN_LAYERS)\n",
    "\n",
    "#If loading an existing neural netwrok, set the weights from that model\n",
    "if initialise.INITIAL_MODEL_VERSION != None:\n",
    "    best_player_version  = initialise.INITIAL_MODEL_VERSION\n",
    "    print('LOADING MODEL VERSION ' + str(initialise.INITIAL_MODEL_VERSION) + '...')\n",
    "    m_tmp = best_NN.read(env.name, initialise.INITIAL_RUN_NUMBER, best_player_version)\n",
    "    current_NN.model.set_weights(m_tmp.get_weights())\n",
    "    best_NN.model.set_weights(m_tmp.get_weights())\n",
    "#otherwise just ensure the weights on the two players are the same\n",
    "else:\n",
    "    best_player_version = 0\n",
    "    best_NN.model.set_weights(current_NN.model.get_weights())\n",
    "\n",
    "#copy the config file to the run folder\n",
    "copyfile('./config.py', run_folder + 'config.py')\n",
    "plot_model(current_NN.model, to_file=run_folder + 'models/model.png', show_shapes = True)\n",
    "\n",
    "print('\\n')\n",
    "\n",
    "######## CREATE THE PLAYERS ########\n",
    "\n",
    "current_player = Agent('current_player', env.state_size, env.action_size, config.MCTS_SIMS, config.CPUCT, current_NN)\n",
    "best_player = Agent('best_player', env.state_size, env.action_size, config.MCTS_SIMS, config.CPUCT, best_NN)"
   ]
  },
  {
   "cell_type": "code",
   "execution_count": 14,
   "metadata": {},
   "outputs": [
    {
     "name": "stdout",
     "output_type": "stream",
     "text": [
      "(array([-0.41520002], dtype=float32), array([ 0.05439956,  0.04435591,  0.03287387,  0.03674513,  0.02975684,\n",
      "        0.04134964,  0.03579015,  0.04859267,  0.03557694,  0.02906657,\n",
      "        0.03348422,  0.0382243 ,  0.08384039,  0.03856984,  0.03617097,\n",
      "        0.03059375,  0.04515274,  0.04630377,  0.0427826 ,  0.03405229,\n",
      "        0.03678911,  0.04139983,  0.03424213,  0.03180692,  0.03807981], dtype=float32), [0, 1, 2, 3, 4, 5, 6, 7, 8, 9, 10, 11, 12, 13, 14, 15, 16, 17, 18, 19, 20, 21, 22, 23, 24]) 12\n",
      "bestMove is:  12\n"
     ]
    }
   ],
   "source": [
    "\n",
    "\n",
    "gs = GameState(np.array([\n",
    "    0,0,0,0,0,\n",
    "    0,0,0,0,0,\n",
    "    0,0,0,0,0,\n",
    "    0,0,0,0,0,\n",
    "    0,0,0,0,0,\n",
    "]), 1)\n",
    "\n",
    "preds = current_player.get_preds(gs)\n",
    "headValue = preds[0]\n",
    "qValue = preds[1]\n",
    "moves = preds[2]\n",
    "print(preds, np.argmax(preds[1]))\n",
    "bestMove = moves[np.argmax(qValue)]\n",
    "print ('bestMove is: ', bestMove)"
   ]
  },
  {
   "cell_type": "code",
   "execution_count": 55,
   "metadata": {},
   "outputs": [
    {
     "name": "stdout",
     "output_type": "stream",
     "text": [
      "array([0, 0, 0, 0, 0, 0, 0, 0, 0, 0, 0, 0, 1, 0, 0, 0, 0, 0, 0, 0, 0, 0, 0,\n",
      "       0, 0])\n"
     ]
    }
   ],
   "source": [
    "# 第9版本，即知道点天元了\n",
    "\n",
    "def getBestMove(board, playerTurn):\n",
    "    # playerTurn 1, X; -1, O\n",
    "    gs = GameState(np.array(board), playerTurn)\n",
    "\n",
    "    preds = current_player.get_preds(gs)\n",
    "    # print (preds)\n",
    "    headValue = preds[0]\n",
    "    qValue = preds[1]\n",
    "    moves = preds[2]\n",
    "    \n",
    "    bestMove = np.argmax(qValue)\n",
    "    assert len(np.where (moves ==bestMove)[0] == 1)\n",
    "    newBoard = np.array(board)\n",
    "    newBoard[bestMove] = playerTurn\n",
    "    return bestMove, newBoard\n",
    "\n",
    "initial = [\n",
    "    0,0,0,0,0,\n",
    "    0,0,0,0,0,\n",
    "    0,0,0,0,0,\n",
    "    0,0,0,0,0,\n",
    "    0,0,0,0,0,\n",
    "]\n",
    "\n",
    "assert getBestMove(initial, 1)[0] == 12\n",
    "print (repr(getBestMove(initial, 1)[1]))"
   ]
  },
  {
   "cell_type": "code",
   "execution_count": 62,
   "metadata": {},
   "outputs": [],
   "source": [
    "from IPython.display import HTML, display\n",
    "import tabulate\n",
    "import numpy as np \n",
    "\n",
    "def showBoard(board):\n",
    "    table = np.reshape(np.array(board), (5,5))\n",
    "    display(HTML(tabulate.tabulate(table, tablefmt='html')))"
   ]
  },
  {
   "cell_type": "code",
   "execution_count": 66,
   "metadata": {},
   "outputs": [
    {
     "data": {
      "text/html": [
       "<table>\n",
       "<tbody>\n",
       "<tr><td style=\"text-align: right;\">1</td><td style=\"text-align: right;\">0</td><td style=\"text-align: right;\">0</td><td style=\"text-align: right;\"> 0</td><td style=\"text-align: right;\">0</td></tr>\n",
       "<tr><td style=\"text-align: right;\">0</td><td style=\"text-align: right;\">0</td><td style=\"text-align: right;\">0</td><td style=\"text-align: right;\"> 0</td><td style=\"text-align: right;\">0</td></tr>\n",
       "<tr><td style=\"text-align: right;\">0</td><td style=\"text-align: right;\">0</td><td style=\"text-align: right;\">1</td><td style=\"text-align: right;\">-1</td><td style=\"text-align: right;\">0</td></tr>\n",
       "<tr><td style=\"text-align: right;\">0</td><td style=\"text-align: right;\">0</td><td style=\"text-align: right;\">0</td><td style=\"text-align: right;\"> 0</td><td style=\"text-align: right;\">0</td></tr>\n",
       "<tr><td style=\"text-align: right;\">0</td><td style=\"text-align: right;\">0</td><td style=\"text-align: right;\">0</td><td style=\"text-align: right;\"> 0</td><td style=\"text-align: right;\">0</td></tr>\n",
       "</tbody>\n",
       "</table>"
      ],
      "text/plain": [
       "<IPython.core.display.HTML object>"
      ]
     },
     "metadata": {},
     "output_type": "display_data"
    }
   ],
   "source": [
    "nextBoard = [\n",
    "    0,0,0,0,0,\n",
    "    0,0,0,0,0,\n",
    "    0,0,1,-1,0,\n",
    "    0,0,0,0,0,\n",
    "    0,0,0,0,0,\n",
    "]\n",
    "assert nextBoard == [0, 0, 0, 0, 0, 0, 0, 0, 0, 0, 0, 0, 1, -1, 0, 0, 0, 0, 0, 0, 0, 0, 0,\n",
    "       0, 0]\n",
    "showBoard(getBestMove(nextBoard, 1)[1])"
   ]
  },
  {
   "cell_type": "code",
   "execution_count": 68,
   "metadata": {},
   "outputs": [
    {
     "data": {
      "text/html": [
       "<table>\n",
       "<tbody>\n",
       "<tr><td style=\"text-align: right;\">1</td><td style=\"text-align: right;\">1</td><td style=\"text-align: right;\"> 0</td><td style=\"text-align: right;\"> 0</td><td style=\"text-align: right;\">0</td></tr>\n",
       "<tr><td style=\"text-align: right;\">0</td><td style=\"text-align: right;\">0</td><td style=\"text-align: right;\">-1</td><td style=\"text-align: right;\"> 0</td><td style=\"text-align: right;\">0</td></tr>\n",
       "<tr><td style=\"text-align: right;\">0</td><td style=\"text-align: right;\">0</td><td style=\"text-align: right;\"> 1</td><td style=\"text-align: right;\">-1</td><td style=\"text-align: right;\">0</td></tr>\n",
       "<tr><td style=\"text-align: right;\">0</td><td style=\"text-align: right;\">0</td><td style=\"text-align: right;\"> 0</td><td style=\"text-align: right;\"> 0</td><td style=\"text-align: right;\">0</td></tr>\n",
       "<tr><td style=\"text-align: right;\">0</td><td style=\"text-align: right;\">0</td><td style=\"text-align: right;\"> 0</td><td style=\"text-align: right;\"> 0</td><td style=\"text-align: right;\">0</td></tr>\n",
       "</tbody>\n",
       "</table>"
      ],
      "text/plain": [
       "<IPython.core.display.HTML object>"
      ]
     },
     "metadata": {},
     "output_type": "display_data"
    }
   ],
   "source": [
    "nextBoard = [\n",
    "    1,0,0,0,0,\n",
    "    0,0,-1,0,0,\n",
    "    0,0,1,-1,0,\n",
    "    0,0,0,0,0,\n",
    "    0,0,0,0,0,\n",
    "]\n",
    "\n",
    "showBoard(getBestMove(nextBoard, 1)[1])"
   ]
  },
  {
   "cell_type": "code",
   "execution_count": 70,
   "metadata": {},
   "outputs": [
    {
     "data": {
      "text/html": [
       "<table>\n",
       "<tbody>\n",
       "<tr><td style=\"text-align: right;\">1</td><td style=\"text-align: right;\">1</td><td style=\"text-align: right;\">-1</td><td style=\"text-align: right;\"> 0</td><td style=\"text-align: right;\">0</td></tr>\n",
       "<tr><td style=\"text-align: right;\">1</td><td style=\"text-align: right;\">0</td><td style=\"text-align: right;\">-1</td><td style=\"text-align: right;\"> 0</td><td style=\"text-align: right;\">0</td></tr>\n",
       "<tr><td style=\"text-align: right;\">0</td><td style=\"text-align: right;\">0</td><td style=\"text-align: right;\"> 1</td><td style=\"text-align: right;\">-1</td><td style=\"text-align: right;\">0</td></tr>\n",
       "<tr><td style=\"text-align: right;\">0</td><td style=\"text-align: right;\">0</td><td style=\"text-align: right;\"> 0</td><td style=\"text-align: right;\"> 0</td><td style=\"text-align: right;\">0</td></tr>\n",
       "<tr><td style=\"text-align: right;\">0</td><td style=\"text-align: right;\">0</td><td style=\"text-align: right;\"> 0</td><td style=\"text-align: right;\"> 0</td><td style=\"text-align: right;\">0</td></tr>\n",
       "</tbody>\n",
       "</table>"
      ],
      "text/plain": [
       "<IPython.core.display.HTML object>"
      ]
     },
     "metadata": {},
     "output_type": "display_data"
    }
   ],
   "source": [
    "nextBoard = [\n",
    "    1,1,-1,0,0,\n",
    "    0,0,-1,0,0,\n",
    "    0,0,1,-1,0,\n",
    "    0,0,0,0,0,\n",
    "    0,0,0,0,0,\n",
    "]\n",
    "\n",
    "showBoard(getBestMove(nextBoard, 1)[1])"
   ]
  },
  {
   "cell_type": "code",
   "execution_count": 71,
   "metadata": {},
   "outputs": [
    {
     "data": {
      "text/html": [
       "<table>\n",
       "<tbody>\n",
       "<tr><td style=\"text-align: right;\">1</td><td style=\"text-align: right;\">1</td><td style=\"text-align: right;\">-1</td><td style=\"text-align: right;\"> 1</td><td style=\"text-align: right;\">0</td></tr>\n",
       "<tr><td style=\"text-align: right;\">1</td><td style=\"text-align: right;\">0</td><td style=\"text-align: right;\">-1</td><td style=\"text-align: right;\">-1</td><td style=\"text-align: right;\">0</td></tr>\n",
       "<tr><td style=\"text-align: right;\">0</td><td style=\"text-align: right;\">0</td><td style=\"text-align: right;\"> 1</td><td style=\"text-align: right;\">-1</td><td style=\"text-align: right;\">0</td></tr>\n",
       "<tr><td style=\"text-align: right;\">0</td><td style=\"text-align: right;\">0</td><td style=\"text-align: right;\"> 0</td><td style=\"text-align: right;\"> 0</td><td style=\"text-align: right;\">0</td></tr>\n",
       "<tr><td style=\"text-align: right;\">0</td><td style=\"text-align: right;\">0</td><td style=\"text-align: right;\"> 0</td><td style=\"text-align: right;\"> 0</td><td style=\"text-align: right;\">0</td></tr>\n",
       "</tbody>\n",
       "</table>"
      ],
      "text/plain": [
       "<IPython.core.display.HTML object>"
      ]
     },
     "metadata": {},
     "output_type": "display_data"
    }
   ],
   "source": [
    "nextBoard = [\n",
    "    1,1,-1,0,0,\n",
    "    1,0,-1,-1,0,\n",
    "    0,0,1,-1,0,\n",
    "    0,0,0,0,0,\n",
    "    0,0,0,0,0,\n",
    "]\n",
    "\n",
    "showBoard(getBestMove(nextBoard, 1)[1])"
   ]
  },
  {
   "cell_type": "code",
   "execution_count": 72,
   "metadata": {},
   "outputs": [
    {
     "data": {
      "text/html": [
       "<table>\n",
       "<tbody>\n",
       "<tr><td style=\"text-align: right;\">1</td><td style=\"text-align: right;\">1</td><td style=\"text-align: right;\">-1</td><td style=\"text-align: right;\"> 1</td><td style=\"text-align: right;\"> 0</td></tr>\n",
       "<tr><td style=\"text-align: right;\">1</td><td style=\"text-align: right;\">0</td><td style=\"text-align: right;\">-1</td><td style=\"text-align: right;\">-1</td><td style=\"text-align: right;\"> 0</td></tr>\n",
       "<tr><td style=\"text-align: right;\">0</td><td style=\"text-align: right;\">0</td><td style=\"text-align: right;\"> 1</td><td style=\"text-align: right;\">-1</td><td style=\"text-align: right;\">-1</td></tr>\n",
       "<tr><td style=\"text-align: right;\">0</td><td style=\"text-align: right;\">1</td><td style=\"text-align: right;\"> 0</td><td style=\"text-align: right;\"> 0</td><td style=\"text-align: right;\"> 0</td></tr>\n",
       "<tr><td style=\"text-align: right;\">0</td><td style=\"text-align: right;\">0</td><td style=\"text-align: right;\"> 0</td><td style=\"text-align: right;\"> 0</td><td style=\"text-align: right;\"> 0</td></tr>\n",
       "</tbody>\n",
       "</table>"
      ],
      "text/plain": [
       "<IPython.core.display.HTML object>"
      ]
     },
     "metadata": {},
     "output_type": "display_data"
    }
   ],
   "source": [
    "nextBoard = [\n",
    "    1,1,-1,1,0,\n",
    "    1,0,-1,-1,0,\n",
    "    0,0,1,-1,-1,\n",
    "    0,0,0,0,0,\n",
    "    0,0,0,0,0,\n",
    "]\n",
    "\n",
    "showBoard(getBestMove(nextBoard, 1)[1])"
   ]
  },
  {
   "cell_type": "code",
   "execution_count": 73,
   "metadata": {},
   "outputs": [
    {
     "data": {
      "text/html": [
       "<table>\n",
       "<tbody>\n",
       "<tr><td style=\"text-align: right;\">1</td><td style=\"text-align: right;\">1</td><td style=\"text-align: right;\">-1</td><td style=\"text-align: right;\"> 1</td><td style=\"text-align: right;\"> 0</td></tr>\n",
       "<tr><td style=\"text-align: right;\">1</td><td style=\"text-align: right;\">0</td><td style=\"text-align: right;\">-1</td><td style=\"text-align: right;\">-1</td><td style=\"text-align: right;\">-1</td></tr>\n",
       "<tr><td style=\"text-align: right;\">0</td><td style=\"text-align: right;\">0</td><td style=\"text-align: right;\"> 1</td><td style=\"text-align: right;\">-1</td><td style=\"text-align: right;\">-1</td></tr>\n",
       "<tr><td style=\"text-align: right;\">0</td><td style=\"text-align: right;\">1</td><td style=\"text-align: right;\"> 0</td><td style=\"text-align: right;\"> 0</td><td style=\"text-align: right;\"> 0</td></tr>\n",
       "<tr><td style=\"text-align: right;\">0</td><td style=\"text-align: right;\">1</td><td style=\"text-align: right;\"> 0</td><td style=\"text-align: right;\"> 0</td><td style=\"text-align: right;\"> 0</td></tr>\n",
       "</tbody>\n",
       "</table>"
      ],
      "text/plain": [
       "<IPython.core.display.HTML object>"
      ]
     },
     "metadata": {},
     "output_type": "display_data"
    }
   ],
   "source": [
    "nextBoard = [\n",
    "    1,1,-1,1,0,\n",
    "    1,0,-1,-1,-1,\n",
    "    0,0,1,-1,-1,\n",
    "    0,1,0,0,0,\n",
    "    0,0,0,0,0,\n",
    "]\n",
    "\n",
    "showBoard(getBestMove(nextBoard, 1)[1])"
   ]
  },
  {
   "cell_type": "code",
   "execution_count": 74,
   "metadata": {},
   "outputs": [
    {
     "data": {
      "text/html": [
       "<table>\n",
       "<tbody>\n",
       "<tr><td style=\"text-align: right;\">1</td><td style=\"text-align: right;\">1</td><td style=\"text-align: right;\">-1</td><td style=\"text-align: right;\"> 1</td><td style=\"text-align: right;\"> 0</td></tr>\n",
       "<tr><td style=\"text-align: right;\">1</td><td style=\"text-align: right;\">0</td><td style=\"text-align: right;\">-1</td><td style=\"text-align: right;\">-1</td><td style=\"text-align: right;\">-1</td></tr>\n",
       "<tr><td style=\"text-align: right;\">0</td><td style=\"text-align: right;\">0</td><td style=\"text-align: right;\"> 1</td><td style=\"text-align: right;\">-1</td><td style=\"text-align: right;\">-1</td></tr>\n",
       "<tr><td style=\"text-align: right;\">0</td><td style=\"text-align: right;\">1</td><td style=\"text-align: right;\"> 0</td><td style=\"text-align: right;\"> 0</td><td style=\"text-align: right;\"> 0</td></tr>\n",
       "<tr><td style=\"text-align: right;\">0</td><td style=\"text-align: right;\">1</td><td style=\"text-align: right;\">-1</td><td style=\"text-align: right;\"> 1</td><td style=\"text-align: right;\"> 0</td></tr>\n",
       "</tbody>\n",
       "</table>"
      ],
      "text/plain": [
       "<IPython.core.display.HTML object>"
      ]
     },
     "metadata": {},
     "output_type": "display_data"
    }
   ],
   "source": [
    "nextBoard = [\n",
    "    1,1,-1,1,0,\n",
    "    1,0,-1,-1,-1,\n",
    "    0,0,1,-1,-1,\n",
    "    0,1,0,0,0,\n",
    "    0,1,-1,0,0,\n",
    "]\n",
    "\n",
    "showBoard(getBestMove(nextBoard, 1)[1])"
   ]
  },
  {
   "cell_type": "code",
   "execution_count": 75,
   "metadata": {},
   "outputs": [
    {
     "data": {
      "text/html": [
       "<table>\n",
       "<tbody>\n",
       "<tr><td style=\"text-align: right;\">1</td><td style=\"text-align: right;\">1</td><td style=\"text-align: right;\">-1</td><td style=\"text-align: right;\"> 1</td><td style=\"text-align: right;\"> 0</td></tr>\n",
       "<tr><td style=\"text-align: right;\">1</td><td style=\"text-align: right;\">0</td><td style=\"text-align: right;\">-1</td><td style=\"text-align: right;\">-1</td><td style=\"text-align: right;\">-1</td></tr>\n",
       "<tr><td style=\"text-align: right;\">0</td><td style=\"text-align: right;\">0</td><td style=\"text-align: right;\"> 1</td><td style=\"text-align: right;\">-1</td><td style=\"text-align: right;\">-1</td></tr>\n",
       "<tr><td style=\"text-align: right;\">0</td><td style=\"text-align: right;\">1</td><td style=\"text-align: right;\"> 0</td><td style=\"text-align: right;\">-1</td><td style=\"text-align: right;\"> 1</td></tr>\n",
       "<tr><td style=\"text-align: right;\">0</td><td style=\"text-align: right;\">1</td><td style=\"text-align: right;\">-1</td><td style=\"text-align: right;\"> 1</td><td style=\"text-align: right;\"> 0</td></tr>\n",
       "</tbody>\n",
       "</table>"
      ],
      "text/plain": [
       "<IPython.core.display.HTML object>"
      ]
     },
     "metadata": {},
     "output_type": "display_data"
    }
   ],
   "source": [
    "nextBoard = [\n",
    "    1,1,-1,1,0,\n",
    "    1,0,-1,-1,-1,\n",
    "    0,0,1,-1,-1,\n",
    "    0,1,0,-1,0,\n",
    "    0,1,-1,1,0,\n",
    "]\n",
    "\n",
    "showBoard(getBestMove(nextBoard, 1)[1])"
   ]
  },
  {
   "cell_type": "code",
   "execution_count": 76,
   "metadata": {},
   "outputs": [
    {
     "data": {
      "text/html": [
       "<table>\n",
       "<tbody>\n",
       "<tr><td style=\"text-align: right;\"> 1</td><td style=\"text-align: right;\">1</td><td style=\"text-align: right;\">-1</td><td style=\"text-align: right;\"> 1</td><td style=\"text-align: right;\"> 0</td></tr>\n",
       "<tr><td style=\"text-align: right;\"> 1</td><td style=\"text-align: right;\">0</td><td style=\"text-align: right;\">-1</td><td style=\"text-align: right;\">-1</td><td style=\"text-align: right;\">-1</td></tr>\n",
       "<tr><td style=\"text-align: right;\">-1</td><td style=\"text-align: right;\">0</td><td style=\"text-align: right;\"> 1</td><td style=\"text-align: right;\">-1</td><td style=\"text-align: right;\">-1</td></tr>\n",
       "<tr><td style=\"text-align: right;\"> 0</td><td style=\"text-align: right;\">1</td><td style=\"text-align: right;\"> 0</td><td style=\"text-align: right;\">-1</td><td style=\"text-align: right;\"> 1</td></tr>\n",
       "<tr><td style=\"text-align: right;\"> 0</td><td style=\"text-align: right;\">1</td><td style=\"text-align: right;\">-1</td><td style=\"text-align: right;\"> 1</td><td style=\"text-align: right;\"> 1</td></tr>\n",
       "</tbody>\n",
       "</table>"
      ],
      "text/plain": [
       "<IPython.core.display.HTML object>"
      ]
     },
     "metadata": {},
     "output_type": "display_data"
    }
   ],
   "source": [
    "nextBoard = [\n",
    "    1,1,-1,1,0,\n",
    "    1,0,-1,-1,-1,\n",
    "    -1,0,1,-1,-1,\n",
    "    0,1,0,-1,1,\n",
    "    0,1,-1,1,0,\n",
    "]\n",
    "\n",
    "showBoard(getBestMove(nextBoard, 1)[1])"
   ]
  },
  {
   "cell_type": "code",
   "execution_count": 77,
   "metadata": {},
   "outputs": [
    {
     "data": {
      "text/html": [
       "<table>\n",
       "<tbody>\n",
       "<tr><td style=\"text-align: right;\"> 1</td><td style=\"text-align: right;\">1</td><td style=\"text-align: right;\">-1</td><td style=\"text-align: right;\"> 1</td><td style=\"text-align: right;\">-1</td></tr>\n",
       "<tr><td style=\"text-align: right;\"> 1</td><td style=\"text-align: right;\">0</td><td style=\"text-align: right;\">-1</td><td style=\"text-align: right;\">-1</td><td style=\"text-align: right;\">-1</td></tr>\n",
       "<tr><td style=\"text-align: right;\">-1</td><td style=\"text-align: right;\">0</td><td style=\"text-align: right;\"> 1</td><td style=\"text-align: right;\">-1</td><td style=\"text-align: right;\">-1</td></tr>\n",
       "<tr><td style=\"text-align: right;\"> 1</td><td style=\"text-align: right;\">1</td><td style=\"text-align: right;\"> 0</td><td style=\"text-align: right;\">-1</td><td style=\"text-align: right;\"> 1</td></tr>\n",
       "<tr><td style=\"text-align: right;\"> 0</td><td style=\"text-align: right;\">1</td><td style=\"text-align: right;\">-1</td><td style=\"text-align: right;\"> 1</td><td style=\"text-align: right;\"> 1</td></tr>\n",
       "</tbody>\n",
       "</table>"
      ],
      "text/plain": [
       "<IPython.core.display.HTML object>"
      ]
     },
     "metadata": {},
     "output_type": "display_data"
    }
   ],
   "source": [
    "nextBoard = [\n",
    "    1,1,-1,1,-1,\n",
    "    1,0,-1,-1,-1,\n",
    "    -1,0,1,-1,-1,\n",
    "    0,1,0,-1,1,\n",
    "    0,1,-1,1,1,\n",
    "]\n",
    "\n",
    "showBoard(getBestMove(nextBoard, 1)[1])"
   ]
  },
  {
   "cell_type": "code",
   "execution_count": 79,
   "metadata": {},
   "outputs": [
    {
     "data": {
      "text/html": [
       "<table>\n",
       "<tbody>\n",
       "<tr><td style=\"text-align: right;\"> 1</td><td style=\"text-align: right;\"> 1</td><td style=\"text-align: right;\">-1</td><td style=\"text-align: right;\"> 1</td><td style=\"text-align: right;\">-1</td></tr>\n",
       "<tr><td style=\"text-align: right;\"> 1</td><td style=\"text-align: right;\"> 0</td><td style=\"text-align: right;\">-1</td><td style=\"text-align: right;\">-1</td><td style=\"text-align: right;\">-1</td></tr>\n",
       "<tr><td style=\"text-align: right;\">-1</td><td style=\"text-align: right;\">-1</td><td style=\"text-align: right;\"> 1</td><td style=\"text-align: right;\">-1</td><td style=\"text-align: right;\">-1</td></tr>\n",
       "<tr><td style=\"text-align: right;\"> 1</td><td style=\"text-align: right;\"> 1</td><td style=\"text-align: right;\"> 0</td><td style=\"text-align: right;\">-1</td><td style=\"text-align: right;\"> 1</td></tr>\n",
       "<tr><td style=\"text-align: right;\"> 1</td><td style=\"text-align: right;\"> 1</td><td style=\"text-align: right;\">-1</td><td style=\"text-align: right;\"> 1</td><td style=\"text-align: right;\"> 1</td></tr>\n",
       "</tbody>\n",
       "</table>"
      ],
      "text/plain": [
       "<IPython.core.display.HTML object>"
      ]
     },
     "metadata": {},
     "output_type": "display_data"
    }
   ],
   "source": [
    "nextBoard = [\n",
    "    1,1,-1,1,-1,\n",
    "    1,0,-1,-1,-1,\n",
    "    -1,-1,1,-1,-1,\n",
    "    1,1,0,-1,1,\n",
    "    0,1,-1,1,1,\n",
    "]\n",
    "\n",
    "showBoard(getBestMove(nextBoard, 1)[1])"
   ]
  },
  {
   "cell_type": "code",
   "execution_count": 81,
   "metadata": {},
   "outputs": [
    {
     "data": {
      "text/html": [
       "<table>\n",
       "<tbody>\n",
       "<tr><td style=\"text-align: right;\"> 1</td><td style=\"text-align: right;\"> 1</td><td style=\"text-align: right;\">-1</td><td style=\"text-align: right;\"> 1</td><td style=\"text-align: right;\">-1</td></tr>\n",
       "<tr><td style=\"text-align: right;\"> 1</td><td style=\"text-align: right;\">-1</td><td style=\"text-align: right;\">-1</td><td style=\"text-align: right;\">-1</td><td style=\"text-align: right;\">-1</td></tr>\n",
       "<tr><td style=\"text-align: right;\">-1</td><td style=\"text-align: right;\">-1</td><td style=\"text-align: right;\"> 1</td><td style=\"text-align: right;\">-1</td><td style=\"text-align: right;\">-1</td></tr>\n",
       "<tr><td style=\"text-align: right;\"> 1</td><td style=\"text-align: right;\"> 1</td><td style=\"text-align: right;\"> 1</td><td style=\"text-align: right;\">-1</td><td style=\"text-align: right;\"> 1</td></tr>\n",
       "<tr><td style=\"text-align: right;\"> 1</td><td style=\"text-align: right;\"> 1</td><td style=\"text-align: right;\">-1</td><td style=\"text-align: right;\"> 1</td><td style=\"text-align: right;\"> 1</td></tr>\n",
       "</tbody>\n",
       "</table>"
      ],
      "text/plain": [
       "<IPython.core.display.HTML object>"
      ]
     },
     "metadata": {},
     "output_type": "display_data"
    }
   ],
   "source": [
    "nextBoard = [\n",
    "    1,1,-1,1,-1,\n",
    "    1,-1,-1,-1,-1,\n",
    "    -1,-1,1,-1,-1,\n",
    "    1,1,0,-1,1,\n",
    "    1,1,-1,1,1,\n",
    "]\n",
    "\n",
    "showBoard(getBestMove(nextBoard, 1)[1])"
   ]
  },
  {
   "cell_type": "code",
   "execution_count": 83,
   "metadata": {},
   "outputs": [
    {
     "name": "stdout",
     "output_type": "stream",
     "text": [
      "['X', 'X', 'O', 'X', 'O']\n",
      "['X', 'O', 'O', 'O', 'O']\n",
      "['O', 'O', 'X', 'O', 'O']\n",
      "['X', 'X', 'X', 'O', 'X']\n",
      "['X', 'X', 'O', 'X', 'X']\n",
      "(1, 10, 1)\n"
     ]
    }
   ],
   "source": [
    "def checkBoardScore(board):\n",
    "    gs = GameState(board, -1)\n",
    "    gs.render()\n",
    "    assert gs._checkForEndGame() == 1\n",
    "    value = gs._getValue()\n",
    "    print (value)\n",
    "    \n",
    "score = checkBoardScore(getBestMove(nextBoard, 1)[1]) \n"
   ]
  },
  {
   "cell_type": "code",
   "execution_count": 34,
   "metadata": {},
   "outputs": [
    {
     "name": "stdout",
     "output_type": "stream",
     "text": [
      "1\n",
      "0\n"
     ]
    }
   ],
   "source": [
    "a = np.array([10, 12, 9])\n",
    "print (len(np.where (a ==12)[0]))\n",
    "\n",
    "print(len(np.where (a ==13)[0]))\n"
   ]
  },
  {
   "cell_type": "code",
   "execution_count": 52,
   "metadata": {},
   "outputs": [
    {
     "name": "stdout",
     "output_type": "stream",
     "text": [
      "15\n"
     ]
    }
   ],
   "source": [
    "nextBoard = [\n",
    "    1,-1,1,0,0,\n",
    "    0,0,-1,0,1,\n",
    "    -1,0,1,-1,-1,\n",
    "    0,1,0,-1,-1,\n",
    "    0,0,1,0,1\n",
    "]\n",
    "print (getBestMove(nextBoard, 1))"
   ]
  },
  {
   "cell_type": "code",
   "execution_count": 59,
   "metadata": {},
   "outputs": [
    {
     "name": "stdout",
     "output_type": "stream",
     "text": [
      "Collecting tabulate\n",
      "\u001b[?25l  Downloading https://files.pythonhosted.org/packages/12/c2/11d6845db5edf1295bc08b2f488cf5937806586afe42936c3f34c097ebdc/tabulate-0.8.2.tar.gz (45kB)\n",
      "\u001b[K    100% |████████████████████████████████| 51kB 19kB/s ta 0:00:015\n",
      "\u001b[?25hBuilding wheels for collected packages: tabulate\n",
      "  Running setup.py bdist_wheel for tabulate ... \u001b[?25ldone\n",
      "\u001b[?25h  Stored in directory: /home/jovyan/.cache/pip/wheels/2a/85/33/2f6da85d5f10614cbe5a625eab3b3aebfdf43e7b857f25f829\n",
      "Successfully built tabulate\n",
      "\u001b[31mtensorflow 1.3.0 has requirement tensorflow-tensorboard<0.2.0,>=0.1.0, but you'll have tensorflow-tensorboard 1.5.1 which is incompatible.\u001b[0m\n",
      "Installing collected packages: tabulate\n",
      "Successfully installed tabulate-0.8.2\n"
     ]
    }
   ],
   "source": [
    "! pip install tabulate"
   ]
  },
  {
   "cell_type": "code",
   "execution_count": 61,
   "metadata": {},
   "outputs": [
    {
     "data": {
      "text/html": [
       "<table>\n",
       "<tbody>\n",
       "<tr><td style=\"text-align: right;\">0</td><td style=\"text-align: right;\">0</td><td style=\"text-align: right;\">0</td><td style=\"text-align: right;\">0</td><td style=\"text-align: right;\">0</td></tr>\n",
       "<tr><td style=\"text-align: right;\">0</td><td style=\"text-align: right;\">0</td><td style=\"text-align: right;\">0</td><td style=\"text-align: right;\">0</td><td style=\"text-align: right;\">0</td></tr>\n",
       "<tr><td style=\"text-align: right;\">0</td><td style=\"text-align: right;\">0</td><td style=\"text-align: right;\">1</td><td style=\"text-align: right;\">0</td><td style=\"text-align: right;\">0</td></tr>\n",
       "<tr><td style=\"text-align: right;\">0</td><td style=\"text-align: right;\">0</td><td style=\"text-align: right;\">0</td><td style=\"text-align: right;\">0</td><td style=\"text-align: right;\">0</td></tr>\n",
       "<tr><td style=\"text-align: right;\">0</td><td style=\"text-align: right;\">0</td><td style=\"text-align: right;\">0</td><td style=\"text-align: right;\">0</td><td style=\"text-align: right;\">0</td></tr>\n",
       "</tbody>\n",
       "</table>"
      ],
      "text/plain": [
       "<IPython.core.display.HTML object>"
      ]
     },
     "metadata": {},
     "output_type": "display_data"
    }
   ],
   "source": []
  },
  {
   "cell_type": "code",
   "execution_count": null,
   "metadata": {},
   "outputs": [],
   "source": []
  }
 ],
 "metadata": {
  "kernelspec": {
   "display_name": "Python 3",
   "language": "python",
   "name": "python3"
  },
  "language_info": {
   "codemirror_mode": {
    "name": "ipython",
    "version": 3
   },
   "file_extension": ".py",
   "mimetype": "text/x-python",
   "name": "python",
   "nbconvert_exporter": "python",
   "pygments_lexer": "ipython3",
   "version": "3.6.3"
  }
 },
 "nbformat": 4,
 "nbformat_minor": 2
}
