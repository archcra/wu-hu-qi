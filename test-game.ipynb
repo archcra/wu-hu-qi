{
 "cells": [
  {
   "cell_type": "code",
   "execution_count": 3,
   "metadata": {},
   "outputs": [
    {
     "data": {
      "text/plain": [
       "array([ 1, -1, -1,  1, -1,  1,  1, -1, -1,  1,  1,  1,  1, -1,  1, -1,  1,\n",
       "       -1, -1, -1,  1, -1, -1,  1,  1])"
      ]
     },
     "execution_count": 3,
     "metadata": {},
     "output_type": "execute_result"
    }
   ],
   "source": [
    "import numpy as np\n",
    "\n",
    "board = np.array([ 1, -1, -1,  1, -1,  1,  1, -1, -1,  1,  1,  1,  1, -1,  1, -1,  1,\n",
    "       -1, -1, -1,  1, -1, -1,  1,  1])\n",
    "\n",
    "board\n"
   ]
  },
  {
   "cell_type": "code",
   "execution_count": 2,
   "metadata": {},
   "outputs": [
    {
     "name": "stdout",
     "output_type": "stream",
     "text": [
      "[1, 2, 3]\n"
     ]
    }
   ],
   "source": [
    "a = [1, 2, 3]\n",
    "print (repr(a))"
   ]
  },
  {
   "cell_type": "code",
   "execution_count": 2,
   "metadata": {},
   "outputs": [
    {
     "name": "stdout",
     "output_type": "stream",
     "text": [
      "['X', 'O', 'O', 'X', 'O']\n",
      "['X', 'X', 'O', 'O', 'X']\n",
      "['X', 'X', 'X', 'O', 'X']\n",
      "['O', 'X', 'O', 'O', 'O']\n",
      "['X', 'O', 'O', 'X', 'X']\n",
      "(1, 4, 1)\n"
     ]
    }
   ],
   "source": [
    "from game import Game, GameState\n",
    "import numpy as np\n",
    "\n",
    "board = np.array([ 1, -1, -1,  1, -1,  1,  1, -1, -1,  1,  1,  1,  1, -1,  1, -1,  1,\n",
    "       -1, -1, -1,  1, -1, -1,  1,  1])\n",
    "gs = GameState(board, -1)\n",
    "gs.render()\n",
    "assert gs._checkForEndGame() == 1\n",
    "value = gs._getValue()\n",
    "print (value)"
   ]
  },
  {
   "cell_type": "code",
   "execution_count": 1,
   "metadata": {},
   "outputs": [
    {
     "ename": "NameError",
     "evalue": "name 'gs' is not defined",
     "output_type": "error",
     "traceback": [
      "\u001b[0;31m\u001b[0m",
      "\u001b[0;31mNameError\u001b[0mTraceback (most recent call last)",
      "\u001b[0;32m<ipython-input-1-4bc2d610a229>\u001b[0m in \u001b[0;36m<module>\u001b[0;34m()\u001b[0m\n\u001b[0;32m----> 1\u001b[0;31m \u001b[0msquareX\u001b[0m \u001b[0;34m=\u001b[0m  \u001b[0mgs\u001b[0m\u001b[0;34m.\u001b[0m\u001b[0mgetScore\u001b[0m\u001b[0;34m(\u001b[0m\u001b[0;36m1\u001b[0m\u001b[0;34m,\u001b[0m \u001b[0;36m1\u001b[0m\u001b[0;34m)\u001b[0m\u001b[0;34m\u001b[0m\u001b[0m\n\u001b[0m\u001b[1;32m      2\u001b[0m \u001b[0msquareX\u001b[0m\u001b[0;34m\u001b[0m\u001b[0m\n",
      "\u001b[0;31mNameError\u001b[0m: name 'gs' is not defined"
     ]
    }
   ],
   "source": [
    "squareX =  gs.getScore(1, 1)\n",
    "squareX"
   ]
  },
  {
   "cell_type": "code",
   "execution_count": 6,
   "metadata": {},
   "outputs": [
    {
     "name": "stdout",
     "output_type": "stream",
     "text": [
      "['O', 'O', 'O', 'X', 'O']\n",
      "['O', 'X', 'X', 'X', 'X']\n",
      "['O', 'O', 'X', 'O', 'O']\n",
      "['O', 'X', 'X', 'X', 'O']\n",
      "['X', 'X', 'O', 'X', 'X']\n",
      "(0, 0, 0)\n"
     ]
    }
   ],
   "source": [
    "from game import Game, GameState\n",
    "import numpy as np\n",
    "\n",
    "\n",
    "# draw\n",
    "board =  np.array(\n",
    "    [-1, -1, -1,  1, -1, -1,  1,  1,  1,  1, -1, -1,  1, -1, -1, -1,  1, 1,  1, -1,  1,  1, -1,  1,  1])\n",
    "\n",
    "gs = GameState(board, -1)\n",
    "gs.render()\n",
    "assert gs._checkForEndGame() == 1\n",
    "value = gs._getValue()\n",
    "print (value)\n",
    "assert value == (0, 0, 0)"
   ]
  },
  {
   "cell_type": "code",
   "execution_count": 5,
   "metadata": {},
   "outputs": [
    {
     "name": "stdout",
     "output_type": "stream",
     "text": [
      "['O', 'O', 'O', 'X', 'O']\n",
      "['X', 'X', 'X', 'X', 'O']\n",
      "['X', 'X', 'O', 'X', 'X']\n",
      "['X', 'O', 'O', 'X', 'X']\n",
      "['O', 'O', 'O', 'X', 'O']\n",
      "(-1, 1, 11)\n"
     ]
    }
   ],
   "source": [
    "\n",
    "from game import Game, GameState\n",
    "import numpy as np\n",
    "\n",
    "\n",
    "# draw\n",
    "board =  np.array(\n",
    "    [-1, -1, -1,  1, -1,  1,  1,  1,  1, -1,  1,  1, -1,  1,  1,  1, -1,\n",
    "       -1,  1,  1, -1, -1, -1,  1, -1])\n",
    "\n",
    "gs = GameState(board, -1)\n",
    "gs.render()\n",
    "assert gs._checkForEndGame() == 1\n",
    "value = gs._getValue()\n",
    "print (value)\n",
    "# print(gs.getScore(1,'-1'))\n",
    "assert value == (-1, 1, 11)"
   ]
  },
  {
   "cell_type": "code",
   "execution_count": 6,
   "metadata": {},
   "outputs": [
    {
     "name": "stdout",
     "output_type": "stream",
     "text": [
      "['X', 'X', 'O', 'O', 'X']\n",
      "['X', 'O', 'O', 'O', 'X']\n",
      "['O', 'X', 'O', 'X', 'O']\n",
      "['O', 'X', 'X', 'X', 'X']\n",
      "['O', 'X', 'X', 'O', 'O']\n",
      "(1, 7, 5)\n"
     ]
    }
   ],
   "source": [
    "from game import Game, GameState\n",
    "import numpy as np\n",
    "\n",
    "def checkBoardScore(board):\n",
    "    gs = GameState(board, -1)\n",
    "    gs.render()\n",
    "    assert gs._checkForEndGame() == 1\n",
    "    value = gs._getValue()\n",
    "    print (value)\n",
    "    # print(gs.getScore(1,'-1'))\n",
    "    # assert value == (-1, 1, 11)\n",
    "\n",
    "    \n",
    "# \n",
    "board =  np.array(\n",
    "    [ 1,  1, -1, -1,  1,  1, -1, -1, -1,  1, -1,  1, -1,  1, -1, -1,  1,\n",
    "        1,  1,  1, -1,  1,  1, -1, -1])\n",
    "\n",
    "checkBoardScore(board) \n",
    "\n"
   ]
  },
  {
   "cell_type": "code",
   "execution_count": null,
   "metadata": {},
   "outputs": [],
   "source": [
    "\n",
    "board =  np.array(\n",
    "[ 1, -1, -1,  1,  1,  1,  1, -1, -1,  1,  1, -1, -1, -1, -1, -1,  1,\n",
    "        1,  1, -1, -1, -1,  1,  1,  1])\n",
    "\n",
    "\n",
    "checkBoardScore(board) \n"
   ]
  }
 ],
 "metadata": {
  "kernelspec": {
   "display_name": "Python 3",
   "language": "python",
   "name": "python3"
  },
  "language_info": {
   "codemirror_mode": {
    "name": "ipython",
    "version": 3
   },
   "file_extension": ".py",
   "mimetype": "text/x-python",
   "name": "python",
   "nbconvert_exporter": "python",
   "pygments_lexer": "ipython3",
   "version": "3.6.3"
  }
 },
 "nbformat": 4,
 "nbformat_minor": 2
}
