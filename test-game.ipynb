{
 "cells": [
  {
   "cell_type": "code",
   "execution_count": 3,
   "metadata": {},
   "outputs": [
    {
     "data": {
      "text/plain": [
       "array([ 1, -1, -1,  1, -1,  1,  1, -1, -1,  1,  1,  1,  1, -1,  1, -1,  1,\n",
       "       -1, -1, -1,  1, -1, -1,  1,  1])"
      ]
     },
     "execution_count": 3,
     "metadata": {},
     "output_type": "execute_result"
    }
   ],
   "source": [
    "import numpy as np\n",
    "\n",
    "board = np.array([ 1, -1, -1,  1, -1,  1,  1, -1, -1,  1,  1,  1,  1, -1,  1, -1,  1,\n",
    "       -1, -1, -1,  1, -1, -1,  1,  1])\n",
    "\n",
    "board\n"
   ]
  },
  {
   "cell_type": "code",
   "execution_count": 2,
   "metadata": {},
   "outputs": [
    {
     "name": "stdout",
     "output_type": "stream",
     "text": [
      "[1, 2, 3]\n"
     ]
    }
   ],
   "source": [
    "a = [1, 2, 3]\n",
    "print (repr(a))"
   ]
  },
  {
   "cell_type": "code",
   "execution_count": 2,
   "metadata": {},
   "outputs": [
    {
     "name": "stdout",
     "output_type": "stream",
     "text": [
      "['X', 'O', 'O', 'X', 'O']\n",
      "['X', 'X', 'O', 'O', 'X']\n",
      "['X', 'X', 'X', 'O', 'X']\n",
      "['O', 'X', 'O', 'O', 'O']\n",
      "['X', 'O', 'O', 'X', 'X']\n",
      "(1, 4, 1)\n"
     ]
    }
   ],
   "source": [
    "from game import Game, GameState\n",
    "import numpy as np\n",
    "\n",
    "board = np.array([ 1, -1, -1,  1, -1,  1,  1, -1, -1,  1,  1,  1,  1, -1,  1, -1,  1,\n",
    "       -1, -1, -1,  1, -1, -1,  1,  1])\n",
    "gs = GameState(board, -1)\n",
    "gs.render()\n",
    "assert gs._checkForEndGame() == 1\n",
    "value = gs._getValue()\n",
    "print (value)"
   ]
  },
  {
   "cell_type": "code",
   "execution_count": 1,
   "metadata": {},
   "outputs": [
    {
     "ename": "NameError",
     "evalue": "name 'gs' is not defined",
     "output_type": "error",
     "traceback": [
      "\u001b[0;31m\u001b[0m",
      "\u001b[0;31mNameError\u001b[0mTraceback (most recent call last)",
      "\u001b[0;32m<ipython-input-1-4bc2d610a229>\u001b[0m in \u001b[0;36m<module>\u001b[0;34m()\u001b[0m\n\u001b[0;32m----> 1\u001b[0;31m \u001b[0msquareX\u001b[0m \u001b[0;34m=\u001b[0m  \u001b[0mgs\u001b[0m\u001b[0;34m.\u001b[0m\u001b[0mgetScore\u001b[0m\u001b[0;34m(\u001b[0m\u001b[0;36m1\u001b[0m\u001b[0;34m,\u001b[0m \u001b[0;36m1\u001b[0m\u001b[0;34m)\u001b[0m\u001b[0;34m\u001b[0m\u001b[0m\n\u001b[0m\u001b[1;32m      2\u001b[0m \u001b[0msquareX\u001b[0m\u001b[0;34m\u001b[0m\u001b[0m\n",
      "\u001b[0;31mNameError\u001b[0m: name 'gs' is not defined"
     ]
    }
   ],
   "source": [
    "squareX =  gs.getScore(1, 1)\n",
    "squareX"
   ]
  },
  {
   "cell_type": "code",
   "execution_count": 6,
   "metadata": {},
   "outputs": [
    {
     "name": "stdout",
     "output_type": "stream",
     "text": [
      "['O', 'O', 'O', 'X', 'O']\n",
      "['O', 'X', 'X', 'X', 'X']\n",
      "['O', 'O', 'X', 'O', 'O']\n",
      "['O', 'X', 'X', 'X', 'O']\n",
      "['X', 'X', 'O', 'X', 'X']\n",
      "(0, 0, 0)\n"
     ]
    }
   ],
   "source": [
    "from game import Game, GameState\n",
    "import numpy as np\n",
    "\n",
    "\n",
    "# draw\n",
    "board =  np.array(\n",
    "    [-1, -1, -1,  1, -1, -1,  1,  1,  1,  1, -1, -1,  1, -1, -1, -1,  1, 1,  1, -1,  1,  1, -1,  1,  1])\n",
    "\n",
    "gs = GameState(board, -1)\n",
    "gs.render()\n",
    "assert gs._checkForEndGame() == 1\n",
    "value = gs._getValue()\n",
    "print (value)\n",
    "assert value == (0, 0, 0)"
   ]
  },
  {
   "cell_type": "code",
   "execution_count": 5,
   "metadata": {},
   "outputs": [
    {
     "name": "stdout",
     "output_type": "stream",
     "text": [
      "['O', 'O', 'O', 'X', 'O']\n",
      "['X', 'X', 'X', 'X', 'O']\n",
      "['X', 'X', 'O', 'X', 'X']\n",
      "['X', 'O', 'O', 'X', 'X']\n",
      "['O', 'O', 'O', 'X', 'O']\n",
      "(-1, 1, 11)\n"
     ]
    }
   ],
   "source": [
    "\n",
    "from game import Game, GameState\n",
    "import numpy as np\n",
    "\n",
    "\n",
    "# draw\n",
    "board =  np.array(\n",
    "    [-1, -1, -1,  1, -1,  1,  1,  1,  1, -1,  1,  1, -1,  1,  1,  1, -1,\n",
    "       -1,  1,  1, -1, -1, -1,  1, -1])\n",
    "\n",
    "gs = GameState(board, -1)\n",
    "gs.render()\n",
    "assert gs._checkForEndGame() == 1\n",
    "value = gs._getValue()\n",
    "print (value)\n",
    "# print(gs.getScore(1,'-1'))\n",
    "assert value == (-1, 1, 11)"
   ]
  },
  {
   "cell_type": "code",
   "execution_count": 6,
   "metadata": {},
   "outputs": [
    {
     "name": "stdout",
     "output_type": "stream",
     "text": [
      "['X', 'X', 'O', 'O', 'X']\n",
      "['X', 'O', 'O', 'O', 'X']\n",
      "['O', 'X', 'O', 'X', 'O']\n",
      "['O', 'X', 'X', 'X', 'X']\n",
      "['O', 'X', 'X', 'O', 'O']\n",
      "(1, 7, 5)\n"
     ]
    }
   ],
   "source": [
    "from game import Game, GameState\n",
    "import numpy as np\n",
    "\n",
    "def checkBoardScore(board):\n",
    "    gs = GameState(board, -1)\n",
    "    gs.render()\n",
    "    assert gs._checkForEndGame() == 1\n",
    "    value = gs._getValue()\n",
    "    print (value)\n",
    "    # print(gs.getScore(1,'-1'))\n",
    "    # assert value == (-1, 1, 11)\n",
    "\n",
    "    \n",
    "# \n",
    "board =  np.array(\n",
    "    [ 1,  1, -1, -1,  1,  1, -1, -1, -1,  1, -1,  1, -1,  1, -1, -1,  1,\n",
    "        1,  1,  1, -1,  1,  1, -1, -1])\n",
    "\n",
    "checkBoardScore(board) \n",
    "\n"
   ]
  },
  {
   "cell_type": "code",
   "execution_count": 10,
   "metadata": {},
   "outputs": [
    {
     "name": "stdout",
     "output_type": "stream",
     "text": [
      "['O', 'X', 'O', 'O', 'X']\n",
      "['O', 'O', 'X', 'X', 'X']\n",
      "['O', 'X', 'O', 'O', 'X']\n",
      "['X', 'O', 'X', 'O', 'X']\n",
      "['X', 'X', 'O', 'O', 'X']\n",
      "(1, 6, 5)\n"
     ]
    }
   ],
   "source": [
    "\n",
    "board =  np.array(\n",
    "[ -1,  1, -1, -1,  1, -1, -1,  1,  1,  1, -1,  1, -1, -1,  1,  1, -1,\n",
    "        1, -1,  1,  1,  1, -1, -1,  1])\n",
    "\n",
    "\n",
    "checkBoardScore(board) \n",
    "# 这局分数是(1,6,5), 即，oScore = 6 > xScore =5，所以局势值是1，即先手输了。"
   ]
  },
  {
   "cell_type": "code",
   "execution_count": 11,
   "metadata": {},
   "outputs": [
    {
     "name": "stdout",
     "output_type": "stream",
     "text": [
      "['X', 'X', 'X', 'X', 'O']\n",
      "['X', 'O', 'O', 'X', 'O']\n",
      "['X', 'X', 'O', 'O', 'X']\n",
      "['X', 'O', 'O', 'X', 'O']\n",
      "['X', 'O', 'X', 'O', 'O']\n",
      "(-1, 4, 11)\n"
     ]
    }
   ],
   "source": [
    "board =  np.array(\n",
    "[ 1,  1,  1,  1, -1,  1, -1, -1,  1, -1,  1,  1, -1, -1,  1,  1, -1,\n",
    "       -1,  1, -1,  1, -1,  1, -1, -1])\n",
    "\n",
    "\n",
    "checkBoardScore(board) \n",
    "# 这局分数是(－1,4,11), 即，oScore = 4 < xScore =11，所以局势值是-1，即先手胜了。\n"
   ]
  },
  {
   "cell_type": "code",
   "execution_count": 18,
   "metadata": {},
   "outputs": [
    {
     "name": "stdout",
     "output_type": "stream",
     "text": [
      "['X', 'X', 'O', 'O', 'X']\n",
      "['O', 'X', 'O', 'X', 'O']\n",
      "['X', 'X', 'O', 'X', 'X']\n",
      "['O', 'X', 'O', 'X', 'O']\n",
      "['O', 'O', 'X', 'X', 'O']\n",
      "(-1, 0, 6)\n"
     ]
    }
   ],
   "source": [
    "board =  np.array(\n",
    "[1,  1, -1, -1,  1, -1,  1, -1,  1, -1,  1,  1, -1,  1,  1, -1,  1,\n",
    "       -1,  1, -1, -1, -1,  1,  1, -1])\n",
    "\n",
    "\n",
    "score = checkBoardScore(board) \n",
    "# assert score == (1,6,5)"
   ]
  },
  {
   "cell_type": "code",
   "execution_count": 27,
   "metadata": {},
   "outputs": [
    {
     "name": "stdout",
     "output_type": "stream",
     "text": [
      "Requirement already up-to-date: pip in /opt/conda/lib/python3.6/site-packages (10.0.1)\n",
      "\u001b[31mtensorflow 1.3.0 has requirement tensorflow-tensorboard<0.2.0,>=0.1.0, but you'll have tensorflow-tensorboard 1.5.1 which is incompatible.\u001b[0m\n",
      "Requirement already satisfied: tensorflow-tensorboard in /opt/conda/lib/python3.6/site-packages (1.5.1)\n",
      "Requirement already satisfied: markdown>=2.6.8 in /opt/conda/lib/python3.6/site-packages (from tensorflow-tensorboard) (2.6.11)\n",
      "Requirement already satisfied: werkzeug>=0.11.10 in /opt/conda/lib/python3.6/site-packages (from tensorflow-tensorboard) (0.14.1)\n",
      "Requirement already satisfied: numpy>=1.12.0 in /opt/conda/lib/python3.6/site-packages (from tensorflow-tensorboard) (1.12.1)\n",
      "Requirement already satisfied: wheel>=0.26; python_version >= \"3\" in /opt/conda/lib/python3.6/site-packages (from tensorflow-tensorboard) (0.30.0)\n",
      "Requirement already satisfied: bleach==1.5.0 in /opt/conda/lib/python3.6/site-packages (from tensorflow-tensorboard) (1.5.0)\n",
      "Requirement already satisfied: protobuf>=3.4.0 in /opt/conda/lib/python3.6/site-packages (from tensorflow-tensorboard) (3.5.2)\n",
      "Requirement already satisfied: html5lib==0.9999999 in /opt/conda/lib/python3.6/site-packages (from tensorflow-tensorboard) (0.9999999)\n",
      "Requirement already satisfied: six>=1.10.0 in /opt/conda/lib/python3.6/site-packages (from tensorflow-tensorboard) (1.11.0)\n",
      "Requirement already satisfied: setuptools in /opt/conda/lib/python3.6/site-packages (from protobuf>=3.4.0->tensorflow-tensorboard) (38.5.1)\n",
      "\u001b[31mtensorflow 1.3.0 has requirement tensorflow-tensorboard<0.2.0,>=0.1.0, but you'll have tensorflow-tensorboard 1.5.1 which is incompatible.\u001b[0m\n"
     ]
    }
   ],
   "source": [
    "! pip install -U pip\n",
    "! pip install tensorflow-tensorboard"
   ]
  },
  {
   "cell_type": "code",
   "execution_count": 22,
   "metadata": {},
   "outputs": [
    {
     "name": "stdout",
     "output_type": "stream",
     "text": [
      "Requirement already satisfied: tensorboard in /opt/conda/lib/python3.6/site-packages (1.9.0)\n",
      "Requirement already satisfied: protobuf>=3.4.0 in /opt/conda/lib/python3.6/site-packages (from tensorboard) (3.5.2)\n",
      "Requirement already satisfied: six>=1.10.0 in /opt/conda/lib/python3.6/site-packages (from tensorboard) (1.11.0)\n",
      "Requirement already satisfied: numpy>=1.12.0 in /opt/conda/lib/python3.6/site-packages (from tensorboard) (1.12.1)\n",
      "Requirement already satisfied: werkzeug>=0.11.10 in /opt/conda/lib/python3.6/site-packages (from tensorboard) (0.14.1)\n",
      "Requirement already satisfied: markdown>=2.6.8 in /opt/conda/lib/python3.6/site-packages (from tensorboard) (2.6.11)\n",
      "Requirement already satisfied: wheel>=0.26; python_version >= \"3\" in /opt/conda/lib/python3.6/site-packages (from tensorboard) (0.30.0)\n",
      "Requirement already satisfied: setuptools in /opt/conda/lib/python3.6/site-packages (from protobuf>=3.4.0->tensorboard) (38.5.1)\n",
      "\u001b[31mtensorflow 1.3.0 requires tensorflow-tensorboard<0.2.0,>=0.1.0, which is not installed.\u001b[0m\n"
     ]
    }
   ],
   "source": [
    "! pip install tensorboard"
   ]
  },
  {
   "cell_type": "code",
   "execution_count": 26,
   "metadata": {},
   "outputs": [
    {
     "name": "stdout",
     "output_type": "stream",
     "text": [
      "Requirement already satisfied: ipywidgets in /opt/conda/lib/python3.6/site-packages (7.1.2)\n",
      "Requirement already satisfied: ipykernel>=4.5.1 in /opt/conda/lib/python3.6/site-packages (from ipywidgets) (4.8.2)\n",
      "Requirement already satisfied: traitlets>=4.3.1 in /opt/conda/lib/python3.6/site-packages (from ipywidgets) (4.3.2)\n",
      "Requirement already satisfied: ipython>=4.0.0; python_version >= \"3.3\" in /opt/conda/lib/python3.6/site-packages (from ipywidgets) (6.2.1)\n",
      "Requirement already satisfied: nbformat>=4.2.0 in /opt/conda/lib/python3.6/site-packages (from ipywidgets) (4.4.0)\n",
      "Requirement already satisfied: widgetsnbextension~=3.1.0 in /opt/conda/lib/python3.6/site-packages (from ipywidgets) (3.1.4)\n",
      "Requirement already satisfied: jupyter-client in /opt/conda/lib/python3.6/site-packages (from ipykernel>=4.5.1->ipywidgets) (5.2.2)\n",
      "Requirement already satisfied: tornado>=4.0 in /opt/conda/lib/python3.6/site-packages (from ipykernel>=4.5.1->ipywidgets) (4.5.3)\n",
      "Requirement already satisfied: decorator in /opt/conda/lib/python3.6/site-packages (from traitlets>=4.3.1->ipywidgets) (4.1.2)\n",
      "Requirement already satisfied: six in /opt/conda/lib/python3.6/site-packages (from traitlets>=4.3.1->ipywidgets) (1.11.0)\n",
      "Requirement already satisfied: ipython-genutils in /opt/conda/lib/python3.6/site-packages (from traitlets>=4.3.1->ipywidgets) (0.2.0)\n",
      "Requirement already satisfied: pexpect; sys_platform != \"win32\" in /opt/conda/lib/python3.6/site-packages (from ipython>=4.0.0; python_version >= \"3.3\"->ipywidgets) (4.4.0)\n",
      "Requirement already satisfied: pygments in /opt/conda/lib/python3.6/site-packages (from ipython>=4.0.0; python_version >= \"3.3\"->ipywidgets) (2.2.0)\n",
      "Requirement already satisfied: pickleshare in /opt/conda/lib/python3.6/site-packages (from ipython>=4.0.0; python_version >= \"3.3\"->ipywidgets) (0.7.4)\n",
      "Requirement already satisfied: setuptools>=18.5 in /opt/conda/lib/python3.6/site-packages (from ipython>=4.0.0; python_version >= \"3.3\"->ipywidgets) (38.5.1)\n",
      "Requirement already satisfied: simplegeneric>0.8 in /opt/conda/lib/python3.6/site-packages (from ipython>=4.0.0; python_version >= \"3.3\"->ipywidgets) (0.8.1)\n",
      "Requirement already satisfied: prompt-toolkit<2.0.0,>=1.0.4 in /opt/conda/lib/python3.6/site-packages (from ipython>=4.0.0; python_version >= \"3.3\"->ipywidgets) (1.0.15)\n",
      "Requirement already satisfied: jedi>=0.10 in /opt/conda/lib/python3.6/site-packages (from ipython>=4.0.0; python_version >= \"3.3\"->ipywidgets) (0.11.1)\n",
      "Requirement already satisfied: jsonschema!=2.5.0,>=2.4 in /opt/conda/lib/python3.6/site-packages (from nbformat>=4.2.0->ipywidgets) (2.6.0)\n",
      "Requirement already satisfied: jupyter-core in /opt/conda/lib/python3.6/site-packages (from nbformat>=4.2.0->ipywidgets) (4.4.0)\n",
      "Requirement already satisfied: notebook>=4.4.1 in /opt/conda/lib/python3.6/site-packages (from widgetsnbextension~=3.1.0->ipywidgets) (5.2.2)\n",
      "Requirement already satisfied: python-dateutil>=2.1 in /opt/conda/lib/python3.6/site-packages (from jupyter-client->ipykernel>=4.5.1->ipywidgets) (2.6.1)\n",
      "Requirement already satisfied: pyzmq>=13 in /opt/conda/lib/python3.6/site-packages (from jupyter-client->ipykernel>=4.5.1->ipywidgets) (17.0.0)\n",
      "Requirement already satisfied: ptyprocess>=0.5 in /opt/conda/lib/python3.6/site-packages (from pexpect; sys_platform != \"win32\"->ipython>=4.0.0; python_version >= \"3.3\"->ipywidgets) (0.5.2)\n",
      "Requirement already satisfied: wcwidth in /opt/conda/lib/python3.6/site-packages (from prompt-toolkit<2.0.0,>=1.0.4->ipython>=4.0.0; python_version >= \"3.3\"->ipywidgets) (0.1.7)\n",
      "Requirement already satisfied: parso==0.1.1 in /opt/conda/lib/python3.6/site-packages (from jedi>=0.10->ipython>=4.0.0; python_version >= \"3.3\"->ipywidgets) (0.1.1)\n",
      "Requirement already satisfied: jinja2 in /opt/conda/lib/python3.6/site-packages (from notebook>=4.4.1->widgetsnbextension~=3.1.0->ipywidgets) (2.10)\n",
      "Requirement already satisfied: nbconvert in /opt/conda/lib/python3.6/site-packages (from notebook>=4.4.1->widgetsnbextension~=3.1.0->ipywidgets) (5.3.1)\n",
      "Requirement already satisfied: terminado>=0.3.3; sys_platform != \"win32\" in /opt/conda/lib/python3.6/site-packages (from notebook>=4.4.1->widgetsnbextension~=3.1.0->ipywidgets) (0.8.1)\n",
      "Requirement already satisfied: MarkupSafe>=0.23 in /opt/conda/lib/python3.6/site-packages (from jinja2->notebook>=4.4.1->widgetsnbextension~=3.1.0->ipywidgets) (1.0)\n",
      "Requirement already satisfied: bleach in /opt/conda/lib/python3.6/site-packages (from nbconvert->notebook>=4.4.1->widgetsnbextension~=3.1.0->ipywidgets) (1.5.0)\n",
      "Requirement already satisfied: mistune>=0.7.4 in /opt/conda/lib/python3.6/site-packages (from nbconvert->notebook>=4.4.1->widgetsnbextension~=3.1.0->ipywidgets) (0.8.3)\n",
      "Requirement already satisfied: entrypoints>=0.2.2 in /opt/conda/lib/python3.6/site-packages (from nbconvert->notebook>=4.4.1->widgetsnbextension~=3.1.0->ipywidgets) (0.2.3)\n",
      "Requirement already satisfied: pandocfilters>=1.4.1 in /opt/conda/lib/python3.6/site-packages (from nbconvert->notebook>=4.4.1->widgetsnbextension~=3.1.0->ipywidgets) (1.4.1)\n",
      "Requirement already satisfied: testpath in /opt/conda/lib/python3.6/site-packages (from nbconvert->notebook>=4.4.1->widgetsnbextension~=3.1.0->ipywidgets) (0.3.1)\n",
      "Requirement already satisfied: html5lib!=0.9999,!=0.99999,<0.99999999,>=0.999 in /opt/conda/lib/python3.6/site-packages (from bleach->nbconvert->notebook>=4.4.1->widgetsnbextension~=3.1.0->ipywidgets) (0.9999999)\n",
      "\u001b[31mtensorflow 1.3.0 has requirement tensorflow-tensorboard<0.2.0,>=0.1.0, but you'll have tensorflow-tensorboard 1.5.1 which is incompatible.\u001b[0m\n"
     ]
    }
   ],
   "source": [
    "! pip install ipywidgets"
   ]
  },
  {
   "cell_type": "code",
   "execution_count": null,
   "metadata": {},
   "outputs": [],
   "source": []
  }
 ],
 "metadata": {
  "kernelspec": {
   "display_name": "Python 3",
   "language": "python",
   "name": "python3"
  },
  "language_info": {
   "codemirror_mode": {
    "name": "ipython",
    "version": 3
   },
   "file_extension": ".py",
   "mimetype": "text/x-python",
   "name": "python",
   "nbconvert_exporter": "python",
   "pygments_lexer": "ipython3",
   "version": "3.6.3"
  }
 },
 "nbformat": 4,
 "nbformat_minor": 2
}
