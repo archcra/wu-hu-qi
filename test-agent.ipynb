{
 "cells": [
  {
   "cell_type": "code",
   "execution_count": 5,
   "metadata": {},
   "outputs": [
    {
     "name": "stdout",
     "output_type": "stream",
     "text": [
      "for tau = 0 (4, 0.29678508999999997)\n",
      "for tau = 1 (6, 0.16371582000000001)\n",
      "for tau = 0 (4, 0.29678508999999997)\n",
      "for tau = 1 (4, 0.29678508999999997)\n",
      "for tau = 0 (4, 0.29678508999999997)\n",
      "for tau = 1 (0, 0.19895688)\n",
      "for tau = 0 (4, 0.29678508999999997)\n",
      "for tau = 1 (8, 0.14467105)\n",
      "for tau = 0 (4, 0.29678508999999997)\n",
      "for tau = 1 (3, 0.13281498999999999)\n",
      "for tau = 0 (4, 0.29678508999999997)\n",
      "for tau = 1 (4, 0.29678508999999997)\n",
      "for tau = 0 (4, 0.29678508999999997)\n",
      "for tau = 1 (4, 0.29678508999999997)\n",
      "for tau = 0 (4, 0.29678508999999997)\n",
      "for tau = 1 (4, 0.29678508999999997)\n",
      "for tau = 0 (4, 0.29678508999999997)\n",
      "for tau = 1 (8, 0.14467105)\n",
      "for tau = 0 (4, 0.29678508999999997)\n",
      "for tau = 1 (6, 0.16371582000000001)\n"
     ]
    }
   ],
   "source": [
    "import numpy as np\n",
    "import random\n",
    "\n",
    "def chooseAction(pi, values, tau):\n",
    "        if tau == 0:\n",
    "            actions = np.argwhere(pi == max(pi))\n",
    "            action = random.choice(actions)[0]\n",
    "        else:\n",
    "            action_idx = np.random.multinomial(1, pi)\n",
    "            action = np.where(action_idx==1)[0][0]\n",
    "\n",
    "        value = values[action]\n",
    "\n",
    "        return action, value\n",
    "    \n",
    "pi = np.array([ 0.17241379,  0.        ,  0.03448276,  0.03448276,  0.51724138,\n",
    "        0.        ,  0.10344828,  0.        ,  0.13793103])\n",
    "values = np.array([ 0.19895688,  0.        ,  0.07650776,  0.13281499,  0.29678509,\n",
    "        0.        ,  0.16371582,  0.        ,  0.14467105])\n",
    "\n",
    "for i in range(10):\n",
    "    print ('for tau = 0', chooseAction(pi, values, 0))\n",
    "    print ('for tau = 1',chooseAction(pi, values, 1))\n"
   ]
  },
  {
   "cell_type": "code",
   "execution_count": 8,
   "metadata": {},
   "outputs": [
    {
     "data": {
      "text/plain": [
       "array([0, 0, 0, 0, 1, 0, 0, 0, 0])"
      ]
     },
     "execution_count": 8,
     "metadata": {},
     "output_type": "execute_result"
    }
   ],
   "source": [
    "pi = np.array([ 0.17241379,  0.        ,  0.03448276,  0.03448276,  0.51724138,\n",
    "        0.        ,  0.10344828,  0.        ,  0.13793103])\n",
    "np.random.multinomial(1, pi)"
   ]
  },
  {
   "cell_type": "markdown",
   "metadata": {},
   "source": [
    "https://docs.scipy.org/doc/numpy/reference/generated/numpy.random.multinomial.html\n",
    "根据文档，第一个参数，是实验的次数，如抛硬币；第二个参数，\n",
    "pvals : sequence of floats, length p\n",
    "\n",
    "    Probabilities of each of the p different outcomes. These should sum to 1 (however, the last element is always assumed to account for the remaining probability, as long as sum(pvals[:-1]) <= 1).\n",
    "\n",
    "是一个小数数组，分别表示各种情况的概率。但因为是nomial，所以这些小数，加起来结果和是1.\n",
    "之所以方法叫multi，是它可做多次nomial分布试验，来得到结论。\n",
    "\n",
    "官方的示例，是拨骰子20次，结果哪下：\n",
    ">>> np.random.multinomial(20, [1/6.]*6, size=1)\n",
    "array([[4, 1, 7, 5, 2, 1]])\n",
    "\n",
    "即第1面4次，第2面1次，第3面7次，。。。\n",
    "\n",
    "而这里用这个的意思，是在action空间中，随机取所有的action。\n",
    "当然，如果相应招法的概率高，则更可能被取到。不过，如果次数多了，所有非0概率的招法，都可能被取到。\n",
    "\n",
    "这个对于象棋这类招法空间高的程序，需要做优化，即将所有非法的action概率都置为0，免得出问题。（是不是已这样做了？）\n",
    "因为，如果其中概率为0，则不会被选择。因为，虽然说是随机，还是按照概率随机的。\n",
    "\n",
    "这个tau，在生成数据时，在指定回合内，是启作用的: 以保持一定的exploration。而在比赛时，是关闭的，即保证exploitation。\n",
    "即比赛时不能胡来再去尝试没把握的招法。\n"
   ]
  },
  {
   "cell_type": "code",
   "execution_count": null,
   "metadata": {},
   "outputs": [],
   "source": []
  }
 ],
 "metadata": {
  "kernelspec": {
   "display_name": "Python 3",
   "language": "python",
   "name": "python3"
  },
  "language_info": {
   "codemirror_mode": {
    "name": "ipython",
    "version": 3
   },
   "file_extension": ".py",
   "mimetype": "text/x-python",
   "name": "python",
   "nbconvert_exporter": "python",
   "pygments_lexer": "ipython3",
   "version": "3.6.3"
  }
 },
 "nbformat": 4,
 "nbformat_minor": 2
}
