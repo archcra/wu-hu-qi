{
 "cells": [
  {
   "cell_type": "code",
   "execution_count": 1,
   "metadata": {},
   "outputs": [
    {
     "name": "stderr",
     "output_type": "stream",
     "text": [
      "Using TensorFlow backend.\n"
     ]
    },
    {
     "name": "stdout",
     "output_type": "stream",
     "text": [
      "I am ready 3.\n"
     ]
    }
   ],
   "source": [
    "# -*- coding: utf-8 -*-\n",
    "# %matplotlib inline\n",
    "\n",
    "import numpy as np\n",
    "np.set_printoptions(suppress=True)\n",
    "\n",
    "from shutil import copyfile\n",
    "import random\n",
    "\n",
    "\n",
    "from keras.utils import plot_model\n",
    "\n",
    "from game import Game, GameState\n",
    "from agent import Agent\n",
    "from memory import Memory\n",
    "from model import Residual_CNN\n",
    "from funcs import playMatches, playMatchesBetweenVersions\n",
    "\n",
    "import loggers as lg\n",
    "\n",
    "from settings import run_folder, run_archive_folder\n",
    "import initialise\n",
    "import pickle\n",
    "import importlib\n",
    "print ('I am ready 3.')"
   ]
  },
  {
   "cell_type": "code",
   "execution_count": 5,
   "metadata": {},
   "outputs": [
    {
     "name": "stdout",
     "output_type": "stream",
     "text": [
      "LOADING MODEL VERSION 429...\n",
      "Set model 429 done.\n",
      "LOADING MODEL VERSION 387...\n",
      "Set model 387 done.\n",
      "\n",
      "\n"
     ]
    }
   ],
   "source": [
    "\n",
    "env = Game()\n",
    "\n",
    "# Use archive files under: archive/xiangqi/run0020\n",
    "INITIAL_RUN_NUMBER = 4\n",
    "\n",
    "import config\n",
    "\n",
    "\n",
    "current_NN = Residual_CNN(config.REG_CONST, config.LEARNING_RATE, env.input_shape,   env.action_size, config.HIDDEN_CNN_LAYERS)\n",
    "best_NN = Residual_CNN(config.REG_CONST, config.LEARNING_RATE, env.input_shape,   env.action_size, config.HIDDEN_CNN_LAYERS)\n",
    "# copy model sh:\n",
    "# thyme@max-white-2\n",
    "# cd ~/alpha-xerox/archive/xiangqi/run0020/models\n",
    "# scp -P 15122 huoyongxue@58.241.217.181:todo/alpha-xerox/run/models/version0004.h5 .\n",
    "best_player_version = 429\n",
    "previous_player_version = 387\n",
    "print('LOADING MODEL VERSION ' + str(best_player_version) + '...')\n",
    "\n",
    "m_tmp = best_NN.read(env.name, INITIAL_RUN_NUMBER, best_player_version)\n",
    "best_NN.model.set_weights(m_tmp.get_weights())\n",
    "print('Set model ' +  str(best_player_version) +  ' done.')\n",
    "\n",
    "print('LOADING MODEL VERSION ' + str(previous_player_version) + '...')\n",
    "m_tmp2 = current_NN.read(env.name, INITIAL_RUN_NUMBER, previous_player_version)\n",
    "current_NN.model.set_weights(m_tmp2.get_weights())\n",
    "print('Set model ' +  str(previous_player_version) +  ' done.')\n",
    "    \n",
    "print('\\n')\n",
    "\n",
    "######## CREATE THE PLAYERS ########\n",
    "\n",
    "current_player = Agent('current_player', env.state_size, env.action_size, config.MCTS_SIMS, config.CPUCT, current_NN)\n",
    "best_player = Agent('best_player', env.state_size, env.action_size, config.MCTS_SIMS, config.CPUCT, best_NN)\n"
   ]
  },
  {
   "cell_type": "code",
   "execution_count": 6,
   "metadata": {},
   "outputs": [
    {
     "name": "stdout",
     "output_type": "stream",
     "text": [
      "锦标赛，联赛 TOURNAMENT...\n",
      "1 2 3 4 5 6 7 8 9 10 11 12 13 14 15 16 17 18 19 20 \n",
      "SCORES\n",
      "{'current_player': 1, 'drawn': 15, 'best_player': 4}\n",
      "\n",
      "STARTING PLAYER / NON-STARTING PLAYER SCORES\n",
      "{'sp': 4, 'drawn': 15, 'nsp': 1}\n"
     ]
    }
   ],
   "source": [
    "######## TOURNAMENT ########\n",
    "print('锦标赛，联赛 TOURNAMENT...')\n",
    "scores, _, points, sp_scores = playMatches(current_player, best_player, config.EVAL_EPISODES, lg.logger_tourney, turns_until_tau0 = 0, memory = None)\n",
    "print('\\nSCORES')\n",
    "print(scores)\n",
    "print('\\nSTARTING PLAYER / NON-STARTING PLAYER SCORES')\n",
    "print(sp_scores)"
   ]
  },
  {
   "cell_type": "code",
   "execution_count": null,
   "metadata": {},
   "outputs": [],
   "source": []
  }
 ],
 "metadata": {
  "kernelspec": {
   "display_name": "Python 3",
   "language": "python",
   "name": "python3"
  },
  "language_info": {
   "codemirror_mode": {
    "name": "ipython",
    "version": 3
   },
   "file_extension": ".py",
   "mimetype": "text/x-python",
   "name": "python",
   "nbconvert_exporter": "python",
   "pygments_lexer": "ipython3",
   "version": "3.6.3"
  }
 },
 "nbformat": 4,
 "nbformat_minor": 2
}
